{
 "cells": [
  {
   "cell_type": "code",
   "execution_count": 61,
   "id": "d67baf72",
   "metadata": {},
   "outputs": [
    {
     "name": "stdout",
     "output_type": "stream",
     "text": [
      "Not Survived\n"
     ]
    }
   ],
   "source": [
    "import pickle \n",
    "import numpy as np\n",
    "import pandas as pd\n",
    "\n",
    "# Load the trained pipeline\n",
    "pipe = pickle.load(open('1.pipe.pkl', 'rb'))\n",
    "\n",
    "# Create the test input as a NumPy array\n",
    "test_input2 = np.array([1, 0, 31.0, 0, 0, 10.5, 1]).reshape(1, 7)\n",
    "\n",
    "# Convert the NumPy array to a pandas DataFrame\n",
    "test_input2_df = pd.DataFrame(test_input2, columns=['Pclass','Sex','Age','SibSp','Parch','Fare','Embarked'])\n",
    "\n",
    "# Make predictions\n",
    "predictions = pipe.predict(test_input2_df)\n",
    "if predictions == 0:\n",
    "    print(\"Not Survived\")\n",
    "else:\n",
    "    print(\"Survived\")\n",
    "    "
   ]
  },
  {
   "cell_type": "code",
   "execution_count": null,
   "id": "7ff882f6",
   "metadata": {},
   "outputs": [],
   "source": []
  },
  {
   "cell_type": "code",
   "execution_count": null,
   "id": "41e603a9",
   "metadata": {},
   "outputs": [],
   "source": []
  }
 ],
 "metadata": {
  "kernelspec": {
   "display_name": "Python 3 (ipykernel)",
   "language": "python",
   "name": "python3"
  },
  "language_info": {
   "codemirror_mode": {
    "name": "ipython",
    "version": 3
   },
   "file_extension": ".py",
   "mimetype": "text/x-python",
   "name": "python",
   "nbconvert_exporter": "python",
   "pygments_lexer": "ipython3",
   "version": "3.11.5"
  }
 },
 "nbformat": 4,
 "nbformat_minor": 5
}
